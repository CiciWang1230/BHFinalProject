{
  "nbformat": 4,
  "nbformat_minor": 0,
  "metadata": {
    "colab": {
      "provenance": [],
      "include_colab_link": true
    },
    "kernelspec": {
      "name": "python3",
      "display_name": "Python 3"
    },
    "language_info": {
      "name": "python"
    }
  },
  "cells": [
    {
      "cell_type": "markdown",
      "metadata": {
        "id": "view-in-github",
        "colab_type": "text"
      },
      "source": [
        "<a href=\"https://colab.research.google.com/github/CiciWang1230/BHFinalProject/blob/main/BHFinalProj.ipynb\" target=\"_parent\"><img src=\"https://colab.research.google.com/assets/colab-badge.svg\" alt=\"Open In Colab\"/></a>"
      ]
    },
    {
      "cell_type": "code",
      "execution_count": 56,
      "metadata": {
        "id": "xmwwlePLap6b"
      },
      "outputs": [],
      "source": [
        "import numpy as np\n",
        "import matplotlib.pyplot as plt\n",
        "import requests\n",
        "import math\n",
        "\n",
        "baseUrl = 'http://www.tng-project.org/api/'\n",
        "headers = {\"api-key\":\"128de4248c745e040927ee558a9bcd62\"} #this is my (Jack) API key btw\n",
        "\n",
        "def get(path, params=None):\n",
        "    # make HTTP GET request to path\n",
        "    r = requests.get(path, params=params, headers=headers)\n",
        "\n",
        "    # raise exception if response code is not HTTP SUCCESS (200)\n",
        "    r.raise_for_status()\n",
        "\n",
        "    if r.headers['content-type'] == 'application/json':\n",
        "        return r.json() # parse json responses automatically\n",
        "    return r\n",
        "\n",
        "r = get(baseUrl)\n",
        "r.keys()\n",
        "names = [sim['name'] for sim in r['simulations']]\n",
        "\n",
        "#defining the \"sim\" function for TNG100-1\n",
        "i = names.index('TNG300-1')\n",
        "sim = get( r['simulations'][i]['url'])\n",
        "\n"
      ]
    },
    {
      "cell_type": "code",
      "source": [
        "#defining redshift values we are testing, etc\n",
        "redshifts = [0, 0.5, 1, 1.5, 2, 2.5, 3, 3.5, 4, 4.5, 5, 5.5, 6]\n",
        "sfrData = []\n",
        "fractSubhalosUsed = 1.0"
      ],
      "metadata": {
        "id": "LVbfIIIybbG_"
      },
      "execution_count": 57,
      "outputs": []
    },
    {
      "cell_type": "code",
      "source": [],
      "metadata": {
        "id": "Uy75ODrmecQx"
      },
      "execution_count": 57,
      "outputs": []
    },
    {
      "cell_type": "code",
      "source": [
        "snaps = get(sim['url'] + 'snapshots/')\n",
        "\n",
        "#Looping through all the snapshots to find the exact snapshots corresponding to the redshifts we're sampling\n",
        "l=0\n",
        "#redshifts with intervals of 0.5\n",
        "snapz_00 = 0\n",
        "snapz_05 = 0\n",
        "snapz_10 = 0\n",
        "snapz_15 = 0\n",
        "snapz_20 = 0\n",
        "snapz_25 = 0\n",
        "snapz_30 = 0\n",
        "snapz_35 = 0\n",
        "snapz_40 = 0\n",
        "snapz_45 = 0\n",
        "snapz_50 = 0\n",
        "snapz_55 = 0\n",
        "snapz_60 = 0\n",
        "\n",
        "\n",
        "\n",
        "#function for the ones in intervals of 0.5\n",
        "while l < len(snaps):\n",
        "  lval = float(\"{:.1f}\".format(snaps[l]['redshift']))\n",
        "  if lval == 0.0:\n",
        "    snapz_00 = l\n",
        "  elif lval == 0.5:\n",
        "    snapz_05 = l\n",
        "  elif lval == 1.0:\n",
        "    snapz_10 = l\n",
        "  elif lval == 1.5:\n",
        "    snapz_15 = l\n",
        "  elif lval == 2.0:\n",
        "    snapz_20 = l\n",
        "  elif lval == 2.5:\n",
        "    snapz_25 = l\n",
        "  elif lval == 3.0:\n",
        "    snapz_30 = l\n",
        "  elif lval == 3.5:\n",
        "    snapz_35 = l\n",
        "  elif lval == 4.0:\n",
        "    snapz_40 = l\n",
        "  elif lval == 4.5:\n",
        "    snapz_45 = l\n",
        "  elif lval == 5.0:\n",
        "    snapz_50 = l\n",
        "  elif lval == 5.5:\n",
        "    snapz_55 = l\n",
        "  elif lval == 6.0:\n",
        "    snapz_60 = l\n",
        "  l = l+1\n",
        "\n",
        "\n",
        "\n",
        "  snapzlist = [snapz_00, snapz_05, snapz_10, snapz_15, snapz_20, snapz_25, snapz_30, snapz_35, snapz_40, snapz_45, snapz_50, snapz_55, snapz_60]"
      ],
      "metadata": {
        "id": "5bCSoiOQay3i"
      },
      "execution_count": 58,
      "outputs": []
    },
    {
      "cell_type": "code",
      "source": [],
      "metadata": {
        "id": "l887t1UA0HLl"
      },
      "execution_count": 58,
      "outputs": []
    },
    {
      "cell_type": "code",
      "source": [
        "#parameters for the search\n",
        "params = {'limit': 100, 'order_by': '-mass_stars'}\n",
        "\n",
        "#this returns a list of subhalos for a given redshift (input value), for bulk data retrieval\n",
        "def subhalos(z):\n",
        "  x = int(2*z)\n",
        "  subhalos_url = snaps[snapzlist[x]]['url'] + 'subhalos/'\n",
        "  return get(subhalos_url, params)\n",
        "\n",
        "#function to pick a sample of subhalos using the above function, also for bulk data retrieval; fix\n",
        "def pickSampledSubs(z):\n",
        "  #subhalo_list = subhalos(z)['results']\n",
        "  #sampledSubs = np.random.choice(subhalo_list, size=int(len(subhalo_list)*fractSubhalosUsed), replace=False)\n",
        "  subhalo_list = subhalos(z)['results']\n",
        "  sampledSubs = subhalo_list\n",
        "  return sampledSubs"
      ],
      "metadata": {
        "id": "00IeRU0zbcDd"
      },
      "execution_count": 59,
      "outputs": []
    },
    {
      "cell_type": "code",
      "source": [
        "#function to find the subhalo arrays\n",
        "def findSFR(y): #input an array of subhalos (ie from pick sampled subs)\n",
        "  sfrs = []\n",
        "  i=0\n",
        "  for i in range(0,len(y)):\n",
        "    samplesubsfr = y[i]['sfr']\n",
        "    sfrs.append(samplesubsfr)\n",
        "    i=i+1\n",
        "  return sfrs\n",
        "\n",
        "  #im thinking that if we need to filter out some 0 or NaN values from the sfrs we can make a mask to do that; im not super familiar with masks and also based on what i've tested it doesn't seem necessary"
      ],
      "metadata": {
        "id": "g-W1qZqlu5_r"
      },
      "execution_count": 60,
      "outputs": []
    },
    {
      "cell_type": "code",
      "source": [
        "#actually getting data:\n",
        "\n",
        "#sampling subhalos\n",
        "samplesubs_z00 = pickSampledSubs(0)\n",
        "samplesubs_z05 = pickSampledSubs(0.5)\n",
        "samplesubs_z10 = pickSampledSubs(1)\n",
        "samplesubs_z15 = pickSampledSubs(1.5)\n",
        "samplesubs_z20 = pickSampledSubs(2)\n",
        "samplesubs_z25 = pickSampledSubs(2.5)\n",
        "samplesubs_z30 = pickSampledSubs(3)\n",
        "samplesubs_z35 = pickSampledSubs(3.5)\n",
        "samplesubs_z40 = pickSampledSubs(4)\n",
        "samplesubs_z45 = pickSampledSubs(4.5)\n",
        "samplesubs_z50 = pickSampledSubs(5)\n",
        "samplesubs_z55 = pickSampledSubs(5.5)\n",
        "samplesubs_z60 = pickSampledSubs(6)\n",
        "\n",
        "\n",
        "#finding their sfr's\n",
        "sfr_z00 = findSFR(samplesubs_z00)\n",
        "sfr_z05 = findSFR(samplesubs_z05)\n",
        "sfr_z10 = findSFR(samplesubs_z10)\n",
        "sfr_z15 = findSFR(samplesubs_z15)\n",
        "sfr_z20 = findSFR(samplesubs_z20)\n",
        "sfr_z25 = findSFR(samplesubs_z25)\n",
        "sfr_z30 = findSFR(samplesubs_z30)\n",
        "sfr_z35 = findSFR(samplesubs_z35)\n",
        "sfr_z40 = findSFR(samplesubs_z40)\n",
        "sfr_z45 = findSFR(samplesubs_z45)\n",
        "sfr_z50 = findSFR(samplesubs_z50)\n",
        "sfr_z55 = findSFR(samplesubs_z55)\n",
        "sfr_z60 = findSFR(samplesubs_z60)\n",
        "\n",
        "#between the sfr finding, WE HAVE TO FILTER OUT 0'S AND RECORD WHAT WE HAVE FILTERED OUT!!!\n",
        "\n",
        "while 0 in sfr_z00:\n",
        "    sfr_z00.remove(0)\n",
        "\n",
        "while 0 in sfr_z05:\n",
        "      sfr_z05.remove(0)\n",
        "\n",
        "while 0 in sfr_z10:\n",
        "      sfr_z10.remove(0)\n",
        "\n",
        "while 0 in sfr_z15:\n",
        "      sfr_z15.remove(0)\n",
        "\n",
        "while 0 in sfr_z25:\n",
        "      sfr_z25.remove(0)\n",
        "\n",
        "while 0 in sfr_z30:\n",
        "      sfr_z30.remove(0)\n",
        "\n",
        "while 0 in sfr_z35:\n",
        "      sfr_z35.remove(0)\n",
        "\n",
        "while 0 in sfr_z40:\n",
        "      sfr_z40.remove(0)\n",
        "\n",
        "while 0 in sfr_z45:\n",
        "      sfr_z45.remove(0)\n",
        "\n",
        "while 0 in sfr_z50:\n",
        "      sfr_z50.remove(0)\n",
        "\n",
        "while 0 in sfr_z55:\n",
        "      sfr_z55.remove(0)\n",
        "\n",
        "while 0 in sfr_z60:\n",
        "      sfr_z60.remove(0)\n",
        "\n",
        "\n",
        "\n",
        "\n",
        "'''\n",
        "if 0 in sfr_z05:\n",
        "  sfr_z05.remove(0)\n",
        "if 0 in sfr_z10:\n",
        "  sfr_z10.remove(0)\n",
        "if 0 in sfr_z15:\n",
        "  sfr_z15.remove(0)\n",
        "if 0 in sfr_z20:\n",
        "  sfr_z20.remove(0)\n",
        "if 0 in sfr_z25:\n",
        "  sfr_z25.remove(0)\n",
        "if 0 in sfr_z30:\n",
        "  sfr_z30.remove(0)\n",
        "if 0 in sfr_z35:\n",
        "  sfr_z35.remove(0)\n",
        "if 0 in sfr_z40:\n",
        "  sfr_z40.remove(0)\n",
        "if 0 in sfr_z45:\n",
        "  sfr_z45.remove(0)\n",
        "if 0 in sfr_z50:\n",
        "  sfr_z50.remove(0)\n",
        "if 0 in sfr_z55:\n",
        "  sfr_z55.remove(0)\n",
        "if 0 in sfr_z60:\n",
        "  sfr_z60.remove(0)\n",
        "'''"
      ],
      "metadata": {
        "id": "yAZJjK_dzGox",
        "colab": {
          "base_uri": "https://localhost:8080/",
          "height": 71
        },
        "outputId": "f73b56b1-f237-4bf7-9dca-b17e18e5fc57"
      },
      "execution_count": 61,
      "outputs": [
        {
          "output_type": "execute_result",
          "data": {
            "text/plain": [
              "'\\nif 0 in sfr_z05:\\n  sfr_z05.remove(0)\\nif 0 in sfr_z10:\\n  sfr_z10.remove(0)\\nif 0 in sfr_z15:\\n  sfr_z15.remove(0)\\nif 0 in sfr_z20:\\n  sfr_z20.remove(0)\\nif 0 in sfr_z25:\\n  sfr_z25.remove(0)\\nif 0 in sfr_z30:\\n  sfr_z30.remove(0)\\nif 0 in sfr_z35:\\n  sfr_z35.remove(0)\\nif 0 in sfr_z40:\\n  sfr_z40.remove(0)\\nif 0 in sfr_z45:\\n  sfr_z45.remove(0)\\nif 0 in sfr_z50:\\n  sfr_z50.remove(0)\\nif 0 in sfr_z55:\\n  sfr_z55.remove(0)\\nif 0 in sfr_z60:\\n  sfr_z60.remove(0)\\n'"
            ],
            "application/vnd.google.colaboratory.intrinsic+json": {
              "type": "string"
            }
          },
          "metadata": {},
          "execution_count": 61
        }
      ]
    },
    {
      "cell_type": "code",
      "source": [
        "\n",
        "print(sfr_z25)\n",
        "print(sfr_z45)\n",
        "#avg sfr for each redshift\n",
        "avg_sfr_z00 = sum(sfr_z00)/len(sfr_z00)\n",
        "avg_sfr_z05 = sum(sfr_z05)/len(sfr_z05)\n",
        "avg_sfr_z10 = sum(sfr_z10)/len(sfr_z10)\n",
        "avg_sfr_z15 = sum(sfr_z15)/len(sfr_z15)\n",
        "avg_sfr_z20 = sum(sfr_z20)/len(sfr_z20)\n",
        "avg_sfr_z25 = sum(sfr_z25)/len(sfr_z25)\n",
        "avg_sfr_z30 = sum(sfr_z30)/len(sfr_z30)\n",
        "avg_sfr_z35 = sum(sfr_z35)/len(sfr_z35)\n",
        "avg_sfr_z40 = sum(sfr_z40)/len(sfr_z40)\n",
        "avg_sfr_z45 = sum(sfr_z45)/len(sfr_z45)\n",
        "avg_sfr_z50 = sum(sfr_z50)/len(sfr_z50)\n",
        "avg_sfr_z55 = sum(sfr_z55)/len(sfr_z55)\n",
        "avg_sfr_z60 = sum(sfr_z60)/len(sfr_z60)\n",
        "\n",
        "#initializing numpy array containing sfr's; ie sfrData\n",
        "#sfrData = np.array([avg_sfr_z00,avg_sfr_z05])\n",
        "\n",
        "'''\n",
        "print(sfrData)\n",
        "L = []\n",
        "for i in [00,05,10,15,20,25,30,35,40,45,50,55,60]:\n",
        "  if avg_sfr_z{i} != 0:\n",
        "    L.append(avg_sfr_z{i})\n",
        "\n",
        "sfrData = np.array(L)\n",
        "'''\n",
        "sfrData = np.array([avg_sfr_z00,avg_sfr_z05,avg_sfr_z10,avg_sfr_z15,avg_sfr_z20,avg_sfr_z25, avg_sfr_z30, avg_sfr_z35, avg_sfr_z40, avg_sfr_z45, avg_sfr_z50, avg_sfr_z55, avg_sfr_z60])\n"
      ],
      "metadata": {
        "colab": {
          "base_uri": "https://localhost:8080/"
        },
        "id": "kWKkqRav1HFd",
        "outputId": "0c58c4fb-3647-4f45-8e22-f4d48f13be37"
      },
      "execution_count": 64,
      "outputs": [
        {
          "output_type": "stream",
          "name": "stdout",
          "text": [
            "[0.0532778, 0.0342987, 0.0403286, 0.00476616, 0.0118163, 0.00728528, 0.00462528, 0.00728153, 0.0072101, 0.0194506]\n",
            "[0.0532778, 0.0342987, 0.0403286, 0.00476616, 0.0118163, 0.00728528, 0.00462528, 0.00728153, 0.0072101, 0.0194506]\n"
          ]
        }
      ]
    },
    {
      "cell_type": "code",
      "source": [
        "from os import lchown\n",
        "print(f\"Number of subhalos at z=2.5: {len(samplesubs_z25)}\")\n",
        "print(f\"Number of subhalos at z=4.5: {len(samplesubs_z45)}\")\n",
        "print(f\"Average SFR at z=2.5: {avg_sfr_z25}\")\n",
        "print(f\"Average SFR at z=4.5: {avg_sfr_z45}\")\n",
        "\n",
        "print(f\"Subhalos at z=2.5: {samplesubs_z25}\")\n",
        "print(f\"Subhalos at z=4.5: {samplesubs_z45}\")\n",
        "print(\"----\")\n",
        "print(f\"Subhalos at z=2.5: {snaps[snapzlist[5]]['url']}\")\n",
        "print(f\"Subhalos at z=4.5: {snaps[snapzlist[9]]['url']}\")\n",
        "print(f\"Subhalos at z=2.5: {subhalos(2.5)}\")\n",
        "print(f\"Subhalos at z=4.5: {subhalos(4.5)}\")"
      ],
      "metadata": {
        "id": "UQbnyCKRapUx",
        "colab": {
          "base_uri": "https://localhost:8080/"
        },
        "outputId": "2bea9d4f-05e4-46c7-87e6-4f515984dc54"
      },
      "execution_count": 68,
      "outputs": [
        {
          "output_type": "stream",
          "name": "stdout",
          "text": [
            "Number of subhalos at z=2.5: 10\n",
            "Number of subhalos at z=4.5: 10\n",
            "Average SFR at z=2.5: 0.019034034999999998\n",
            "Average SFR at z=4.5: 0.019034034999999998\n",
            "Subhalos at z=2.5: [{'id': 0, 'sfr': 0.0532778, 'mass_log_msun': 9.460705686184319, 'url': 'http://www.tng-project.org/api/TNG300-1/snapshots/0/subhalos/0/'}, {'id': 1, 'sfr': 0.0342987, 'mass_log_msun': 9.27876034952877, 'url': 'http://www.tng-project.org/api/TNG300-1/snapshots/0/subhalos/1/'}, {'id': 2, 'sfr': 0.0403286, 'mass_log_msun': 9.257152609195714, 'url': 'http://www.tng-project.org/api/TNG300-1/snapshots/0/subhalos/2/'}, {'id': 3, 'sfr': 0.00476616, 'mass_log_msun': 9.225098577006474, 'url': 'http://www.tng-project.org/api/TNG300-1/snapshots/0/subhalos/3/'}, {'id': 4, 'sfr': 0.0118163, 'mass_log_msun': 9.20476062959597, 'url': 'http://www.tng-project.org/api/TNG300-1/snapshots/0/subhalos/4/'}, {'id': 5, 'sfr': 0.00728528, 'mass_log_msun': 9.179195976663195, 'url': 'http://www.tng-project.org/api/TNG300-1/snapshots/0/subhalos/5/'}, {'id': 6, 'sfr': 0.00462528, 'mass_log_msun': 9.117024565792038, 'url': 'http://www.tng-project.org/api/TNG300-1/snapshots/0/subhalos/6/'}, {'id': 7, 'sfr': 0.00728153, 'mass_log_msun': 9.143058154386047, 'url': 'http://www.tng-project.org/api/TNG300-1/snapshots/0/subhalos/7/'}, {'id': 8, 'sfr': 0.0072101, 'mass_log_msun': 9.144393553524921, 'url': 'http://www.tng-project.org/api/TNG300-1/snapshots/0/subhalos/8/'}, {'id': 9, 'sfr': 0.0194506, 'mass_log_msun': 9.126723787043785, 'url': 'http://www.tng-project.org/api/TNG300-1/snapshots/0/subhalos/9/'}]\n",
            "Subhalos at z=4.5: [{'id': 0, 'sfr': 0.0532778, 'mass_log_msun': 9.460705686184319, 'url': 'http://www.tng-project.org/api/TNG300-1/snapshots/0/subhalos/0/'}, {'id': 1, 'sfr': 0.0342987, 'mass_log_msun': 9.27876034952877, 'url': 'http://www.tng-project.org/api/TNG300-1/snapshots/0/subhalos/1/'}, {'id': 2, 'sfr': 0.0403286, 'mass_log_msun': 9.257152609195714, 'url': 'http://www.tng-project.org/api/TNG300-1/snapshots/0/subhalos/2/'}, {'id': 3, 'sfr': 0.00476616, 'mass_log_msun': 9.225098577006474, 'url': 'http://www.tng-project.org/api/TNG300-1/snapshots/0/subhalos/3/'}, {'id': 4, 'sfr': 0.0118163, 'mass_log_msun': 9.20476062959597, 'url': 'http://www.tng-project.org/api/TNG300-1/snapshots/0/subhalos/4/'}, {'id': 5, 'sfr': 0.00728528, 'mass_log_msun': 9.179195976663195, 'url': 'http://www.tng-project.org/api/TNG300-1/snapshots/0/subhalos/5/'}, {'id': 6, 'sfr': 0.00462528, 'mass_log_msun': 9.117024565792038, 'url': 'http://www.tng-project.org/api/TNG300-1/snapshots/0/subhalos/6/'}, {'id': 7, 'sfr': 0.00728153, 'mass_log_msun': 9.143058154386047, 'url': 'http://www.tng-project.org/api/TNG300-1/snapshots/0/subhalos/7/'}, {'id': 8, 'sfr': 0.0072101, 'mass_log_msun': 9.144393553524921, 'url': 'http://www.tng-project.org/api/TNG300-1/snapshots/0/subhalos/8/'}, {'id': 9, 'sfr': 0.0194506, 'mass_log_msun': 9.126723787043785, 'url': 'http://www.tng-project.org/api/TNG300-1/snapshots/0/subhalos/9/'}]\n",
            "----\n",
            "Subhalos at z=2.5: http://www.tng-project.org/api/TNG300-1/snapshots/0/\n",
            "Subhalos at z=4.5: http://www.tng-project.org/api/TNG300-1/snapshots/0/\n",
            "Subhalos at z=2.5: {'count': 10, 'next': None, 'previous': None, 'results': [{'id': 0, 'sfr': 0.0532778, 'mass_log_msun': 9.460705686184319, 'url': 'http://www.tng-project.org/api/TNG300-1/snapshots/0/subhalos/0/'}, {'id': 1, 'sfr': 0.0342987, 'mass_log_msun': 9.27876034952877, 'url': 'http://www.tng-project.org/api/TNG300-1/snapshots/0/subhalos/1/'}, {'id': 2, 'sfr': 0.0403286, 'mass_log_msun': 9.257152609195714, 'url': 'http://www.tng-project.org/api/TNG300-1/snapshots/0/subhalos/2/'}, {'id': 3, 'sfr': 0.00476616, 'mass_log_msun': 9.225098577006474, 'url': 'http://www.tng-project.org/api/TNG300-1/snapshots/0/subhalos/3/'}, {'id': 4, 'sfr': 0.0118163, 'mass_log_msun': 9.20476062959597, 'url': 'http://www.tng-project.org/api/TNG300-1/snapshots/0/subhalos/4/'}, {'id': 5, 'sfr': 0.00728528, 'mass_log_msun': 9.179195976663195, 'url': 'http://www.tng-project.org/api/TNG300-1/snapshots/0/subhalos/5/'}, {'id': 6, 'sfr': 0.00462528, 'mass_log_msun': 9.117024565792038, 'url': 'http://www.tng-project.org/api/TNG300-1/snapshots/0/subhalos/6/'}, {'id': 7, 'sfr': 0.00728153, 'mass_log_msun': 9.143058154386047, 'url': 'http://www.tng-project.org/api/TNG300-1/snapshots/0/subhalos/7/'}, {'id': 8, 'sfr': 0.0072101, 'mass_log_msun': 9.144393553524921, 'url': 'http://www.tng-project.org/api/TNG300-1/snapshots/0/subhalos/8/'}, {'id': 9, 'sfr': 0.0194506, 'mass_log_msun': 9.126723787043785, 'url': 'http://www.tng-project.org/api/TNG300-1/snapshots/0/subhalos/9/'}]}\n",
            "Subhalos at z=4.5: {'count': 10, 'next': None, 'previous': None, 'results': [{'id': 0, 'sfr': 0.0532778, 'mass_log_msun': 9.460705686184319, 'url': 'http://www.tng-project.org/api/TNG300-1/snapshots/0/subhalos/0/'}, {'id': 1, 'sfr': 0.0342987, 'mass_log_msun': 9.27876034952877, 'url': 'http://www.tng-project.org/api/TNG300-1/snapshots/0/subhalos/1/'}, {'id': 2, 'sfr': 0.0403286, 'mass_log_msun': 9.257152609195714, 'url': 'http://www.tng-project.org/api/TNG300-1/snapshots/0/subhalos/2/'}, {'id': 3, 'sfr': 0.00476616, 'mass_log_msun': 9.225098577006474, 'url': 'http://www.tng-project.org/api/TNG300-1/snapshots/0/subhalos/3/'}, {'id': 4, 'sfr': 0.0118163, 'mass_log_msun': 9.20476062959597, 'url': 'http://www.tng-project.org/api/TNG300-1/snapshots/0/subhalos/4/'}, {'id': 5, 'sfr': 0.00728528, 'mass_log_msun': 9.179195976663195, 'url': 'http://www.tng-project.org/api/TNG300-1/snapshots/0/subhalos/5/'}, {'id': 6, 'sfr': 0.00462528, 'mass_log_msun': 9.117024565792038, 'url': 'http://www.tng-project.org/api/TNG300-1/snapshots/0/subhalos/6/'}, {'id': 7, 'sfr': 0.00728153, 'mass_log_msun': 9.143058154386047, 'url': 'http://www.tng-project.org/api/TNG300-1/snapshots/0/subhalos/7/'}, {'id': 8, 'sfr': 0.0072101, 'mass_log_msun': 9.144393553524921, 'url': 'http://www.tng-project.org/api/TNG300-1/snapshots/0/subhalos/8/'}, {'id': 9, 'sfr': 0.0194506, 'mass_log_msun': 9.126723787043785, 'url': 'http://www.tng-project.org/api/TNG300-1/snapshots/0/subhalos/9/'}]}\n"
          ]
        }
      ]
    },
    {
      "cell_type": "code",
      "source": [
        "#plotting sfr vs redshift =)\n",
        "print(sfrData)\n",
        "plt.figure(figsize=(10, 6))\n",
        "plt.plot(redshifts, sfrData, marker='o', linestyle='-', color='blue')\n",
        "plt.xlabel('Redshift (z)')\n",
        "plt.ylabel('Average Star Formation Rate')\n",
        "plt.title('Star Formation Rate vs Redshift (Sampled)')\n",
        "plt.grid(True)\n",
        "plt.show()"
      ],
      "metadata": {
        "colab": {
          "base_uri": "https://localhost:8080/",
          "height": 635
        },
        "id": "Yxov9nClyJt9",
        "outputId": "0f7d2385-3f91-47e3-a0eb-b6e9c1816d36"
      },
      "execution_count": 65,
      "outputs": [
        {
          "output_type": "stream",
          "name": "stdout",
          "text": [
            "[1.52014359e+00 9.87995237e+00 2.23376850e+01 3.95234771e+01\n",
            " 4.78785958e+01 1.90340350e-02 1.48877816e+02 3.77230421e+02\n",
            " 4.47463555e+02 1.90340350e-02 3.01642236e+02 2.24451757e+02\n",
            " 1.98611095e+02]\n"
          ]
        },
        {
          "output_type": "display_data",
          "data": {
            "text/plain": [
              "<Figure size 1000x600 with 1 Axes>"
            ],
            "image/png": "[encoded data removed]"
          },
          "metadata": {}
        }
      ]
    },
    {
      "cell_type": "code",
      "source": [],
      "metadata": {
        "id": "j_UCDBqhUWVg"
      },
      "execution_count": 63,
      "outputs": []
    }
  ]
}