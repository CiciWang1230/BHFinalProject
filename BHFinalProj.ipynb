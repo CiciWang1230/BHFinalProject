{
  "nbformat": 4,
  "nbformat_minor": 0,
  "metadata": {
    "colab": {
      "provenance": [],
      "include_colab_link": true
    },
    "kernelspec": {
      "name": "python3",
      "display_name": "Python 3"
    },
    "language_info": {
      "name": "python"
    }
  },
  "cells": [
    {
      "cell_type": "markdown",
      "metadata": {
        "id": "view-in-github",
        "colab_type": "text"
      },
      "source": [
        "<a href=\"https://colab.research.google.com/github/CiciWang1230/BHFinalProject/blob/main/BHFinalProj.ipynb\" target=\"_parent\"><img src=\"https://colab.research.google.com/assets/colab-badge.svg\" alt=\"Open In Colab\"/></a>"
      ]
    },
    {
      "cell_type": "code",
      "execution_count": 1,
      "metadata": {
        "id": "xmwwlePLap6b"
      },
      "outputs": [],
      "source": [
        "import numpy as np\n",
        "import matplotlib.pyplot as plt\n",
        "import requests\n",
        "import math\n",
        "import h5py\n",
        "\n",
        "baseUrl = 'http://www.tng-project.org/api/'\n",
        "headers = {\"api-key\":\"128de4248c745e040927ee558a9bcd62\"} #this is my (Jack) API key btw\n",
        "\n",
        "def get(path, params=None):\n",
        "    # make HTTP GET request to path\n",
        "    r = requests.get(path, params=params, headers=headers)\n",
        "\n",
        "    # raise exception if response code is not HTTP SUCCESS (200)\n",
        "    r.raise_for_status()\n",
        "\n",
        "    if r.headers['content-type'] == 'application/json':\n",
        "        return r.json() # parse json responses automatically\n",
        "    return r\n",
        "\n",
        "r = get(baseUrl)\n",
        "r.keys()\n",
        "names = [sim['name'] for sim in r['simulations']]\n",
        "\n",
        "#defining the \"sim\" function for TNG100-1 alongside the \"snaps\" function\n",
        "i = names.index('TNG300-1')\n",
        "sim = get( r['simulations'][i]['url'])\n",
        "snaps = get(sim['url'] + 'snapshots/')"
      ]
    },
    {
      "cell_type": "code",
      "source": [
        "#defining redshift values we are testing, etc\n",
        "redshifts = [0, 0.5, 1, 1.5, 2, 2.5, 3, 3.5, 4, 4.5, 5, 5.5, 6]\n",
        "sfrData = []\n",
        "fractSubhalosUsed = 1.0"
      ],
      "metadata": {
        "id": "LVbfIIIybbG_"
      },
      "execution_count": 2,
      "outputs": []
    },
    {
      "cell_type": "code",
      "source": [
        "#Looping through all the snapshots to find the exact snapshots corresponding to the redshifts we're sampling\n",
        "l=0\n",
        "#redshifts with intervals of 0.5\n",
        "snapz_00 = 0\n",
        "snapz_05 = 0\n",
        "snapz_10 = 0\n",
        "snapz_15 = 0\n",
        "snapz_20 = 0\n",
        "snapz_25 = 0\n",
        "snapz_30 = 0\n",
        "snapz_35 = 0\n",
        "snapz_40 = 0\n",
        "snapz_45 = 0\n",
        "snapz_50 = 0\n",
        "snapz_55 = 0\n",
        "snapz_60 = 0\n",
        "\n",
        "\n",
        "#function for the ones in intervals of 0.5\n",
        "while l < len(snaps):\n",
        "  lval = float(\"{:.1f}\".format(snaps[l]['redshift']))\n",
        "  if lval == 0.0:\n",
        "    snapz_00 = l\n",
        "  elif lval == 0.5:\n",
        "    snapz_05 = l\n",
        "  elif lval == 1.0:\n",
        "    snapz_10 = l\n",
        "  elif lval == 1.5:\n",
        "    snapz_15 = l\n",
        "  elif lval == 2.0:\n",
        "    snapz_20 = l\n",
        "  #elif lval == 2.5:\n",
        "    #snapz_25 = l\n",
        "  elif lval == 3.0:\n",
        "    snapz_30 = l\n",
        "  elif lval == 3.5:\n",
        "    snapz_35 = l\n",
        "  elif lval == 4.0:\n",
        "    snapz_40 = l\n",
        "  #elif lval == 4.5:\n",
        "    #snapz_45 = l\n",
        "  elif lval == 5.0:\n",
        "    snapz_50 = l\n",
        "  elif lval == 5.5:\n",
        "    snapz_55 = l\n",
        "  elif lval == 6.0:\n",
        "    snapz_60 = l\n",
        "  l = l+1\n",
        "\n",
        "snapz_25 = 29\n",
        "snapz_45 = 19\n",
        "\n",
        "\n",
        "snapzlist = [snapz_00, snapz_05, snapz_10, snapz_15, snapz_20, snapz_25, snapz_30, snapz_35, snapz_40, snapz_45, snapz_50, snapz_55, snapz_60]"
      ],
      "metadata": {
        "id": "5bCSoiOQay3i"
      },
      "execution_count": 3,
      "outputs": []
    },
    {
      "cell_type": "code",
      "source": [
        "#parameters for the search\n",
        "params = {'limit': 100*fractSubhalosUsed, 'order_by': '-mass_stars'}\n",
        "\n",
        "#this returns a list of subhalos for a given redshift (input value), for bulk data retrieval\n",
        "def subhalos(z):\n",
        "  x = int(2*z)\n",
        "  subhalos_url = snaps[snapzlist[x]]['url'] + 'subhalos/'\n",
        "  return get(subhalos_url, params)\n",
        "\n",
        "#function to pick a sample of subhalos using the above function, also for bulk data retrieval; fix\n",
        "def pickSampledSubs(z):\n",
        "  #subhalo_list = subhalos(z)['results']\n",
        "  #sampledSubs = np.random.choice(subhalo_list, size=int(len(subhalo_list)*fractSubhalosUsed), replace=False)\n",
        "  subhalo_list = subhalos(z)['results']\n",
        "  sampledSubs = subhalo_list\n",
        "  return sampledSubs\n",
        "\n",
        "#function to fetch the ids of the queried subhalos\n",
        "def grabid(z):\n",
        "  subhaloids = []\n",
        "  subhalo_list = pickSampledSubs(z)\n",
        "  for i in range(len(subhalo_list)):\n",
        "    subhaloid = subhalo_list[i]['id']\n",
        "    subhaloids.append(subhaloid)\n",
        "  return subhaloids\n"
      ],
      "metadata": {
        "id": "00IeRU0zbcDd"
      },
      "execution_count": 4,
      "outputs": []
    },
    {
      "cell_type": "code",
      "source": [
        "#function to find the subhalo arrays\n",
        "def findSFR(y): #input an array of subhalos (ie from pick sampled subs)\n",
        "  sfrs = []\n",
        "  i=0\n",
        "  for i in range(0,len(y)):\n",
        "    samplesubsfr = y[i]['sfr']\n",
        "    sfrs.append(samplesubsfr)\n",
        "    i=i+1\n",
        "  return sfrs"
      ],
      "metadata": {
        "id": "g-W1qZqlu5_r"
      },
      "execution_count": 5,
      "outputs": []
    },
    {
      "cell_type": "code",
      "source": [
        "#actually getting data:\n",
        "\n",
        "#sampling subhalos\n",
        "samplesubs_z00 = pickSampledSubs(0)\n",
        "samplesubs_z05 = pickSampledSubs(0.5)\n",
        "samplesubs_z10 = pickSampledSubs(1)\n",
        "samplesubs_z15 = pickSampledSubs(1.5)\n",
        "samplesubs_z20 = pickSampledSubs(2)\n",
        "samplesubs_z25 = pickSampledSubs(2.5)\n",
        "samplesubs_z30 = pickSampledSubs(3)\n",
        "samplesubs_z35 = pickSampledSubs(3.5)\n",
        "samplesubs_z40 = pickSampledSubs(4)\n",
        "samplesubs_z45 = pickSampledSubs(4.5)\n",
        "samplesubs_z50 = pickSampledSubs(5)\n",
        "samplesubs_z55 = pickSampledSubs(5.5)\n",
        "samplesubs_z60 = pickSampledSubs(6)\n",
        "\n",
        "\n",
        "#finding their sfr's\n",
        "sfr_z00 = findSFR(samplesubs_z00)\n",
        "sfr_z05 = findSFR(samplesubs_z05)\n",
        "sfr_z10 = findSFR(samplesubs_z10)\n",
        "sfr_z15 = findSFR(samplesubs_z15)\n",
        "sfr_z20 = findSFR(samplesubs_z20)\n",
        "sfr_z25 = findSFR(samplesubs_z25)\n",
        "sfr_z30 = findSFR(samplesubs_z30)\n",
        "sfr_z35 = findSFR(samplesubs_z35)\n",
        "sfr_z40 = findSFR(samplesubs_z40)\n",
        "sfr_z45 = findSFR(samplesubs_z45)\n",
        "sfr_z50 = findSFR(samplesubs_z50)\n",
        "sfr_z55 = findSFR(samplesubs_z55)\n",
        "sfr_z60 = findSFR(samplesubs_z60)"
      ],
      "metadata": {
        "id": "yAZJjK_dzGox"
      },
      "execution_count": 6,
      "outputs": []
    },
    {
      "cell_type": "code",
      "source": [
        "\n",
        "#finding their id's as well\n",
        "id_z00 = grabid(0)\n",
        "id_z05 = grabid(0.5)\n",
        "id_z10 = grabid(1)\n",
        "id_z15 = grabid(1.5)\n",
        "id_z20 = grabid(2)\n",
        "id_z25 = grabid(2.5)\n",
        "id_z30 = grabid(3)\n",
        "id_z35 = grabid(3.5)\n",
        "id_z40 = grabid(4)\n",
        "id_z45 = grabid(4.5)\n",
        "id_z50 = grabid(5)\n",
        "id_z55 = grabid(5.5)\n",
        "id_z60 = grabid(6)\n",
        "\n",
        "\n",
        "\n",
        "#filtering out 0 from each sfr\n",
        "while 0 in sfr_z00:\n",
        "    index = sfr_z00.index(0)\n",
        "    sfr_z00.pop(index)\n",
        "    id_z00.pop(index)\n",
        "while 0 in sfr_z05:\n",
        "    index = sfr_z05.index(0)\n",
        "    sfr_z05.pop(index)\n",
        "    id_z05.pop(index)\n",
        "while 0 in sfr_z10:\n",
        "    index = sfr_z10.index(0)\n",
        "    sfr_z10.pop(index)\n",
        "    id_z10.pop(index)\n",
        "while 0 in sfr_z15:\n",
        "    index = sfr_z15.index(0)\n",
        "    sfr_z15.pop(index)\n",
        "    id_z15.pop(index)\n",
        "while 0 in sfr_z20:\n",
        "    index = sfr_z20.index(0)\n",
        "    sfr_z20.pop(index)\n",
        "    id_z20.pop(index)\n",
        "while 0 in sfr_z25:\n",
        "    index = sfr_z25.index(0)\n",
        "    sfr_z25.pop(index)\n",
        "    id_z25.pop(index)\n",
        "while 0 in sfr_z30:\n",
        "    index = sfr_z30.index(0)\n",
        "    sfr_z30.pop(index)\n",
        "    id_z30.pop(index)\n",
        "while 0 in sfr_z35:\n",
        "    index = sfr_z35.index(0)\n",
        "    sfr_z35.pop(index)\n",
        "    id_z35.pop(index)\n",
        "while 0 in sfr_z40:\n",
        "    index = sfr_z40.index(0)\n",
        "    sfr_z40.pop(index)\n",
        "    id_z40.pop(index)\n",
        "while 0 in sfr_z45:\n",
        "    index = sfr_z45.index(0)\n",
        "    sfr_z45.pop(index)\n",
        "    id_z45.pop(index)\n",
        "while 0 in sfr_z50:\n",
        "    index = sfr_z50.index(0)\n",
        "    sfr_z50.pop(index)\n",
        "    id_z50.pop(index)\n",
        "while 0 in sfr_z55:\n",
        "    index = sfr_z55.index(0)\n",
        "    sfr_z55.pop(index)\n",
        "    id_z55.pop(index)\n",
        "while 0 in sfr_z60:\n",
        "    index = sfr_z60.index(0)\n",
        "    sfr_z60.pop(index)\n",
        "    id_z60.pop(index)\n",
        "\n"
      ],
      "metadata": {
        "id": "rVu8HedbwC1f"
      },
      "execution_count": 7,
      "outputs": []
    },
    {
      "cell_type": "code",
      "source": [
        "#avg sfr for each redshift\n",
        "avg_sfr_z00 = sum(sfr_z00)/len(sfr_z00)\n",
        "avg_sfr_z05 = sum(sfr_z05)/len(sfr_z05)\n",
        "avg_sfr_z10 = sum(sfr_z10)/len(sfr_z10)\n",
        "avg_sfr_z15 = sum(sfr_z15)/len(sfr_z15)\n",
        "avg_sfr_z20 = sum(sfr_z20)/len(sfr_z20)\n",
        "avg_sfr_z25 = sum(sfr_z25)/len(sfr_z25)\n",
        "avg_sfr_z30 = sum(sfr_z30)/len(sfr_z30)\n",
        "avg_sfr_z35 = sum(sfr_z35)/len(sfr_z35)\n",
        "avg_sfr_z40 = sum(sfr_z40)/len(sfr_z40)\n",
        "avg_sfr_z45 = sum(sfr_z45)/len(sfr_z45)\n",
        "avg_sfr_z50 = sum(sfr_z50)/len(sfr_z50)\n",
        "avg_sfr_z55 = sum(sfr_z55)/len(sfr_z55)\n",
        "avg_sfr_z60 = sum(sfr_z60)/len(sfr_z60)\n",
        "\n",
        "#initializing numpy array containing sfr's; ie sfrData\n",
        "sfrData = np.array([avg_sfr_z00,avg_sfr_z05,avg_sfr_z10,avg_sfr_z15,avg_sfr_z20,avg_sfr_z25, avg_sfr_z30, avg_sfr_z35, avg_sfr_z40, avg_sfr_z45, avg_sfr_z50, avg_sfr_z55, avg_sfr_z60])\n",
        "idNumbs = [id_z00, id_z05, id_z10, id_z15, id_z20, id_z25, id_z30, id_z35, id_z40, id_z45, id_z50, id_z55, id_z60]\n"
      ],
      "metadata": {
        "id": "kWKkqRav1HFd"
      },
      "execution_count": 8,
      "outputs": []
    },
    {
      "cell_type": "code",
      "source": [
        "print(idNumbs)\n",
        "#plotting sfr vs redshift =)\n",
        "plt.figure(figsize=(10, 6))\n",
        "plt.plot(redshifts, sfrData, marker='o', linestyle='-', color='blue')\n",
        "plt.xlabel('Redshift (z)')\n",
        "plt.ylabel('Average Star Formation Rate')\n",
        "plt.title('Average Star Formation Rate vs Redshift')\n",
        "plt.grid(True)\n",
        "plt.show()"
      ],
      "metadata": {
        "colab": {
          "base_uri": "https://localhost:8080/",
          "height": 602
        },
        "id": "Yxov9nClyJt9",
        "outputId": "86d41ad5-c300-435d-c7eb-acc63b9aaffc"
      },
      "execution_count": 12,
      "outputs": [
        {
          "output_type": "stream",
          "name": "stdout",
          "text": [
            "[[11748, 17908, 27878, 22736, 55060, 64929, 81618, 114186, 42631, 75826, 157536, 70146, 136963, 47315, 175556, 183493, 180645, 86933, 138686, 84201, 128624, 152070, 37492, 164428, 214510, 37493, 111937, 100238, 196895, 92076, 181998, 216757, 285612, 220542, 78522, 199580, 173751, 247170, 89298, 177232, 193825, 217958, 116080, 263571, 130736, 104399, 280543, 148391, 266530, 134864, 168095, 302073, 159038, 259549, 269847, 192574, 195434, 236464, 267741, 240917, 265569, 208573, 243651, 132753, 205477, 244754], [0, 13711, 32293, 36224, 17018, 34051, 5488, 9391, 19891, 49563, 64730, 83280, 67489, 59930, 29880, 27644, 73140, 40048, 55127, 56648, 78406, 85672, 81013, 121510, 25286, 91554, 70226, 71614, 74317, 84380, 117910, 45760, 75635, 22534, 133023, 5489, 146586, 63001, 104658, 97262, 102547, 167351, 165252, 103545, 171239, 53334, 197799, 136912, 82136, 124961, 118693, 120589, 90447, 163069, 68706, 38112, 112795, 43904, 149646, 161675, 181363, 76948, 220919, 125784, 157435, 129519, 264349, 271567, 123210, 38113, 106531, 254202, 154391, 95011, 107569, 135921, 114736, 166670, 88120, 98279, 105603, 193085, 119588, 132118, 99276, 309587, 88119, 250835, 127566, 213993, 101490, 66173, 216272, 145931, 174724], [5429, 0, 3402, 17704, 16062, 14465, 40971, 34788, 26634, 63595, 29983, 49470, 24600, 25658, 32044, 69005, 9259, 36575, 20587, 33059, 33967, 39305, 21884, 10906, 61931, 81604, 27739, 30953, 7313, 41603, 54587, 91808, 38277, 23284, 19176, 40023, 44802, 44129, 48820, 94832, 1, 53944, 81166, 64126, 9260, 35776, 76277, 87668, 60068, 71238, 89918, 69526, 120566, 104578, 145683, 56608, 72318, 91375, 58724, 121247, 12622, 146536, 12621, 65914, 80247, 75705, 76896, 132222, 7314, 98122, 139831, 82468, 43292, 78020, 110770, 83376, 12620, 117774, 109838, 101806, 51778, 112700, 146770, 117463, 136216, 88970, 75139, 45461, 81943, 28716, 59321, 93592, 88075, 73932, 94453, 37403, 125828, 57227, 47069, 116730], [1437, 9675, 2432, 4919, 3687, 9058, 10354, 28980, 20447, 5664, 14483, 17784, 15188, 6577, 1, 19921, 11741, 7559, 20906, 23193, 30101, 56231, 36567, 13081, 18349, 41847, 16607, 25123, 29708, 22266, 15962, 83102, 79669, 35014, 29372, 21375, 13698, 19417, 31912, 25533, 58446, 53049, 37136, 34232, 12388, 87932, 33421, 8324, 25986, 64044, 70408, 44819, 84603, 12389, 39625, 27669, 75912, 41254, 49255, 65417, 67223, 78380, 63097, 79489, 23555, 22679, 41548, 44181, 40350, 21898, 73778, 62024, 46620, 0, 78562, 78772, 48262, 26360, 56706, 17146, 52108, 33821, 69937, 36839, 51796, 63813, 38929, 18855, 63591, 54539, 60233, 55648, 53293, 68731, 43879, 64243, 32298, 41003, 93597, 59014], [1016, 8424, 1763, 14388, 2489, 0, 4702, 10997, 8026, 32689, 45221, 11322, 3107, 9142, 17792, 34532, 13713, 27517, 7632, 15860, 15243, 10282, 6646, 5225, 14918, 37049, 6189, 35213, 20543, 37182, 36191, 3551, 32306, 19166, 45346, 29599, 12086, 18055, 16378, 4214, 19941, 18391, 21257, 42792, 22804, 35678, 11649, 17264, 52480, 25544, 1, 5702, 29133, 16614, 1764, 49556, 38648, 2490, 7078, 37829, 31489, 46195, 14655, 65024, 38450, 14067, 4704, 23057, 80799, 47787, 76607, 36519, 31660, 3552, 60641, 60756, 74331, 45633, 43126, 31909, 30012, 37998, 21506, 31299, 34328, 94280, 5226, 33967, 66012, 98206, 12431, 10696, 50826, 33366, 33207, 24673, 94611, 65426, 68431, 32830], [1954, 3206, 703, 4149, 14241, 2559, 22717, 11915, 13879, 16696, 0, 4325, 1367, 11180, 21340, 5172, 19560, 6845, 3859, 8583, 7514, 2560, 43537, 16238, 12690, 1, 17385, 1368, 10131, 11005, 11705, 2884, 11506, 6063, 16854, 15666, 9617, 4628, 10479, 5546, 13710, 4841, 20524, 37792, 21095, 7072, 37569, 15789, 37985, 9253, 33403, 5793, 33725, 20116, 40673, 37045, 2258, 33494, 18208, 39764, 38174, 27696, 24089, 46466, 25837, 33291, 16111, 6557, 21628, 31736, 20230, 22452, 40190, 17787, 3464, 40248, 6361, 57914, 32069, 35012, 20013, 31138, 30933, 14043, 13057, 43152, 23698, 704, 64641, 50884, 23988, 14367, 33831, 67466, 42509, 61471, 30374, 36633, 51269, 37304], [0, 773, 7287, 260, 6806, 5270, 490, 6509, 7818, 9645, 6721, 2491, 8440, 5018, 12619, 10665, 5147, 1108, 8055, 4586, 8671, 12190, 16488, 17893, 10755, 3921, 6264, 10599, 21131, 4257, 9566, 16208, 2864, 3211, 7064, 10831, 11998, 7182, 2261, 4844, 3074, 20705, 1336, 11160, 13587, 12370, 14057, 13182, 12287, 9471, 2669, 1625, 13410, 12858, 14560, 15583, 21740, 14789, 27877, 8562, 28182, 11087, 13703, 19105, 12554, 6372, 1, 25476, 9364, 22116, 4412, 491, 19702, 14647, 9089, 37033, 18530, 27043, 21829, 13535, 22542, 5505, 19957, 15992, 11318, 31000, 12064, 33197, 26210, 22904, 8305, 22240, 11895, 9258, 35522, 16294, 16049, 21778, 2083, 17559], [0, 734, 3695, 138, 1916, 4451, 3329, 356, 2304, 4065, 2023, 7140, 3626, 1448, 1811, 3245, 9364, 6653, 9558, 6219, 3745, 1301, 5916, 3424, 2093, 2203, 10969, 8308, 6164, 2881, 997, 5170, 4222, 4510, 13425, 7552, 5010, 9021, 4350, 1707, 5485, 9256, 4666, 6984, 9514, 15797, 10527, 11196, 8529, 5853, 3939, 8951, 9295, 16611, 14655, 7420, 16986, 8641, 7483, 5792, 1708, 9416, 6501, 12126, 13003, 18279, 4587, 3940, 3514, 9734, 6926, 8256, 5651, 5704, 17163, 542, 13169, 855, 20394, 2383, 4814, 10023, 9920, 10361, 19857, 6788, 7961, 7261, 14924, 16812, 14051, 3095, 856, 10661, 16118, 6844, 12464, 11466, 8208, 11011], [177, 270, 1915, 0, 954, 373, 3796, 2016, 868, 1349, 3255, 2420, 761, 1969, 4159, 1848, 1509, 3518, 4699, 2140, 5811, 4048, 516, 8253, 7626, 4330, 2376, 2893, 4358, 5352, 6869, 6681, 3558, 9690, 2078, 7762, 1597, 7815, 4740, 4470, 9375, 6513, 3728, 5641, 2308, 7988, 4644, 8793, 5102, 3096, 3847, 13789, 3895, 6432, 9571, 14396, 5076, 6324, 12094, 8865, 1701, 11744, 2711, 7384, 10196, 4973, 4573, 8100, 12527, 11067, 9283, 6253, 12691, 2959, 7786, 10838, 7106, 7695, 9819, 9441, 4844, 9600, 11534, 11177, 5029, 7123, 7649, 7584, 11706, 1124, 13480, 11604, 6777, 7190, 12503, 17494, 13661, 7724, 13166, 2544], [233, 947, 126, 0, 1051, 2010, 324, 2053, 1855, 691, 1657, 3762, 1471, 981, 2756, 799, 2663, 1901, 1812, 3861, 740, 5075, 2394, 1954, 1199, 3452, 5192, 2790, 3925, 3298, 6274, 6953, 4133, 8387, 6249, 4025, 3107, 6769, 3734, 4370, 6998, 2174, 4348, 5335, 4909, 6329, 9477, 9195, 5745, 4546, 4645, 4318, 8805, 2497, 4395, 4569, 5008, 3628, 3566, 4045, 6716, 7103, 4603, 9240, 7575, 5352, 6742, 7120, 8971, 7037, 2849, 411, 1230, 4491, 6201, 7015, 5785, 3385, 9433, 6980, 5217, 5450, 7332, 11477, 2, 3792, 623, 5913, 2821, 2131, 8652, 4663, 7249, 7146, 11710, 3068, 16116, 5639, 4279, 13458], [361, 448, 619, 0, 576, 1363, 326, 1067, 717, 2655, 492, 399, 3207, 1175, 982, 1136, 851, 4047, 4693, 2173, 884, 2546, 1711, 1496, 255, 2371, 2912, 2800, 1046, 4583, 2124, 3963, 3846, 7370, 2776, 1563, 1594, 1827, 5457, 1245, 5137, 2321, 6353, 1271, 1937, 3587, 183, 100, 5691, 4672, 4222, 938, 5536, 2933, 527, 8123, 2728, 5441, 4492, 3368, 3775, 2994, 4112, 5591, 4997, 5161, 6882, 2890, 6204, 7276, 3356, 2055, 3971, 7812, 3758, 3334, 1439, 2760, 5008, 1964, 2258, 1304, 1804, 1744, 7778, 3314, 4661, 6643, 7283, 3024, 9831, 3489, 3914, 2392, 1205, 6038, 4280, 8311, 4636, 4863], [121, 405, 554, 532, 0, 193, 159, 849, 1696, 422, 82, 624, 2190, 973, 325, 213, 2179, 2693, 36, 3553, 1885, 816, 3476, 2754, 1704, 4453, 1236, 2575, 702, 676, 2393, 2667, 2562, 2798, 2154, 2359, 1065, 6068, 4511, 1589, 1573, 1719, 2682, 3689, 3649, 1292, 2472, 1112, 2901, 2299, 1258, 1491, 4045, 2239, 5546, 1, 899, 3968, 3452, 4485, 833, 6074, 2911, 2731, 6555, 4894, 6612, 730, 1459, 2226, 1531, 7183, 4321, 5411, 2538, 2871, 4552, 8316, 585, 3174, 2857, 1192, 4505, 7421, 2607, 1313, 1916, 4520, 6804, 9334, 3356, 1901, 2317, 1982, 9847, 5471, 8504, 2290, 763, 3732], [499, 78, 0, 135, 840, 589, 852, 708, 946, 669, 40, 112, 1577, 356, 1474, 233, 1958, 481, 1019, 1613, 2725, 3054, 682, 3628, 1415, 162, 1248, 2001, 2133, 1869, 1672, 2193, 1879, 417, 1, 2174, 3925, 4357, 4341, 278, 1505, 1558, 1789, 1685, 2562, 2282, 1193, 3215, 3207, 6272, 3107, 6714, 4056, 2882, 2832, 2318, 2062, 2750, 1140, 864, 1463, 5480, 1826, 381, 205, 2694, 4172, 1588, 3600, 3418, 2204, 4663, 3737, 5569, 1653, 5021, 4504, 1156, 5893, 1723, 2651, 2606, 1984, 1846, 4529, 2873, 208, 4377, 2376, 4784, 1634, 2953, 895, 2614, 4827, 1328, 1180, 2595, 2167, 560]]\n"
          ]
        },
        {
          "output_type": "display_data",
          "data": {
            "text/plain": [
              "<Figure size 1000x600 with 1 Axes>"
            ],
            "image/png": "[encoded data removed]"
          },
          "metadata": {}
        }
      ]
    },
    {
      "source": [
        "#merger stuff starts here\n",
        "def get_data(path, params=None):\n",
        "    # make HTTP GET request to path\n",
        "    r2 = requests.get(path, params=params, headers=headers)\n",
        "\n",
        "    # raise exception if response code is not HTTP SUCCESS (200)\n",
        "    r2.raise_for_status()\n",
        "\n",
        "    if r2.headers['content-type'] == 'application/json':\n",
        "        return r2.json() # parse json responses automatically\n",
        "\n",
        "    # Change 'r.headers' to 'r2.headers'\n",
        "    if 'content-disposition' in r2.headers:\n",
        "        filename = r2.headers['content-disposition'].split(\"filename=\")[1]\n",
        "        with open(filename, 'wb') as f:\n",
        "            f.write(r2.content)\n",
        "        return filename # return the filename string\n",
        "\n",
        "    return r2\n",
        "\n"
      ],
      "cell_type": "code",
      "metadata": {
        "id": "8eABMo3-21Sn"
      },
      "execution_count": 16,
      "outputs": []
    },
    {
      "cell_type": "code",
      "source": [
        "sim2 = 'TNG100-1'\n",
        "\n",
        "\n",
        "#this code is good but we need to vary the thingies\n",
        "i = names.index(\"TNG100-1\")\n",
        "TNG100_info = r['simulations'][i]\n",
        "TNG100 = get(TNG100_info['url'])\n",
        "hubble = TNG100[\"hubble\"]\n",
        "snapshots = get(TNG100['snapshots'])\n",
        "snap50_url = snapshots[50]['url']\n",
        "snap50 = get(snap50_url)\n",
        "subs = get(snap50['subhalos'], {'limit':11, 'order_by':'-mass_stars'} )\n",
        "i = 7\n",
        "print(subs['results'][i])\n",
        "sub_url = subs['results'][i]['url']\n",
        "#sub_url = \"http://www.tng-project.org/api/%s/snapshots/%d/subhalos/%d/\"%(sim2, snap_num, subid)\n",
        "\n",
        "# Here I'm querying the particle ID and masses of blackholes in this subhalo\n",
        "cutout_request = {'bhs':'ParticleIDs,Masses'}\n",
        "cutout = get_data(sub_url+\"cutout.hdf5\", cutout_request)\n",
        "\n",
        "with h5py.File(cutout,'r') as f:\n",
        "    bhids = f['PartType5']['ParticleIDs'][:]\n",
        "    bhmasses = f['PartType5']['Masses'][:] * 1e10/hubble\n",
        "\n",
        "def search_mergers(mergers, bhid):\n",
        "    mask = mergers['id1'] == bhid\n",
        "    mask |= mergers['id2'] == bhid\n",
        "    return mergers[mask]\n",
        "\n",
        "#fetching merger file from google drive; THE FILE MUST BE DOWNLOADED AND IN YOUR DRIVE WITH THE NAME \"TNG100_mergers_withID.npy\" FOR THE FOLLOWING TO WORK (-jack)\n",
        "from google.colab import drive\n",
        "drive.mount('/content/drive')\n",
        "\n",
        "data_dir = '/content/drive/MyDrive/'\n",
        "tng100_mergers = np.load(data_dir + 'TNG100_mergers_withID.npy')"
      ],
      "metadata": {
        "id": "pHnSlIiB13Zh",
        "outputId": "78eadcc9-1bfc-4090-be54-9a7c98aab48c",
        "colab": {
          "base_uri": "https://localhost:8080/"
        }
      },
      "execution_count": 23,
      "outputs": [
        {
          "output_type": "stream",
          "name": "stdout",
          "text": [
            "{'id': 0, 'sfr': 194.868, 'mass_log_msun': 14.00900037284869, 'url': 'http://www.tng-project.org/api/TNG100-1/snapshots/50/subhalos/0/'}\n",
            "Drive already mounted at /content/drive; to attempt to forcibly remount, call drive.mount(\"/content/drive\", force_remount=True).\n"
          ]
        }
      ]
    },
    {
      "cell_type": "code",
      "source": [
        "\n",
        "def searchMergers(mergers, bhid):\n",
        "    mask = mergers['id1'] == bhid\n",
        "    mask |= mergers['id2'] == bhid\n",
        "    return mergers[mask]\n",
        "\n",
        "\n",
        "#someone write a function here to grab the blackhole ids from a subhalo, im too tired and also i have a crapton of work left\n"
      ],
      "metadata": {
        "id": "yYOXfd8yC6MR"
      },
      "execution_count": 24,
      "outputs": []
    },
    {
      "cell_type": "code",
      "source": [
        "mergers = tng100_mergers #this says that the mergers we're parsing are from the file in the drive =)\n",
        "\n",
        "#this is verbatim cici's plot; i think for the project we should narrow it down to specifically only include the mergers FROM THE SAMPLE OF SUBHALOS WE USED RATHER THAN THE GENERAL THING but my knowledge of python isn't good enough to implement that sort of filtration\n",
        "fig = plt.figure(figsize=(8,6))\n",
        "plt.hist(tng100_mergers['redshift'], bins = np.linspace(0,8,50))\n",
        "plt.xlabel('Redshift')\n",
        "plt.ylabel('Number of BH Mergers')\n",
        "plt.yscale('log')\n",
        "plt.show()\n",
        "#cici: this is her code but I changed it to subhalo 0, u can change the id manually"
      ],
      "metadata": {
        "id": "DzOSrsm1GiU9",
        "outputId": "57a399f8-8d3c-4871-84cc-18a7ec7f812d",
        "colab": {
          "base_uri": "https://localhost:8080/",
          "height": 542
        }
      },
      "execution_count": 25,
      "outputs": [
        {
          "output_type": "display_data",
          "data": {
            "text/plain": [
              "<Figure size 800x600 with 1 Axes>"
            ],
            "image/png": "[encoded data removed]"
          },
          "metadata": {}
        }
      ]
    },
    {
      "cell_type": "code",
      "source": [
        "#cici: i didnt use this, but feel free to uncomment them\n",
        "'''\n",
        "mergerlist = []\n",
        "mergerredshifts = []\n",
        "for i in len(bhidlist): #the input here is a list of the blackhole ids from the list of subhalos or something\n",
        "  bhid = bhidlist[i]\n",
        "  mergers_thisbh = search_mergers(mergers=tng100_mergers, bhid)\n",
        "  for merger in mergers_thisbh:\n",
        "    mergerlist.append(1)\n",
        "    mergerredshifts.append(merger['redshift']) #i think if we really wanted to do this, we could technically sort them into lists based on the value of redshifts they fall into, ie mergers from redshifts between, say, ±0.25 of a given redshift\n",
        "'''"
      ],
      "metadata": {
        "id": "u-Vjm8JJJ64e"
      },
      "execution_count": null,
      "outputs": []
    }
  ]
}